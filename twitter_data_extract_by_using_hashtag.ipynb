{
  "cells": [
    {
      "cell_type": "code",
      "execution_count": null,
      "id": "tight-intensity",
      "metadata": {
        "id": "tight-intensity",
        "outputId": "095eb523-3c47-4a14-8402-f199f4d85044"
      },
      "outputs": [
        {
          "name": "stdout",
          "output_type": "stream",
          "text": [
            "Collecting tweepy\n",
            "  Downloading tweepy-3.10.0-py2.py3-none-any.whl (30 kB)\n",
            "Requirement already satisfied: requests[socks]>=2.11.1 in /srv/conda/envs/notebook/lib/python3.7/site-packages (from tweepy) (2.25.1)\n",
            "Requirement already satisfied: six>=1.10.0 in /srv/conda/envs/notebook/lib/python3.7/site-packages (from tweepy) (1.15.0)\n",
            "Collecting requests-oauthlib>=0.7.0\n",
            "  Downloading requests_oauthlib-1.3.0-py2.py3-none-any.whl (23 kB)\n",
            "Requirement already satisfied: oauthlib>=3.0.0 in /srv/conda/envs/notebook/lib/python3.7/site-packages (from requests-oauthlib>=0.7.0->tweepy) (3.0.1)\n",
            "Requirement already satisfied: chardet<5,>=3.0.2 in /srv/conda/envs/notebook/lib/python3.7/site-packages (from requests[socks]>=2.11.1->tweepy) (4.0.0)\n",
            "Requirement already satisfied: idna<3,>=2.5 in /srv/conda/envs/notebook/lib/python3.7/site-packages (from requests[socks]>=2.11.1->tweepy) (2.10)\n",
            "Requirement already satisfied: certifi>=2017.4.17 in /srv/conda/envs/notebook/lib/python3.7/site-packages (from requests[socks]>=2.11.1->tweepy) (2020.12.5)\n",
            "Requirement already satisfied: urllib3<1.27,>=1.21.1 in /srv/conda/envs/notebook/lib/python3.7/site-packages (from requests[socks]>=2.11.1->tweepy) (1.26.3)\n",
            "Requirement already satisfied: PySocks!=1.5.7,>=1.5.6 in /srv/conda/envs/notebook/lib/python3.7/site-packages (from requests[socks]>=2.11.1->tweepy) (1.7.1)\n",
            "Installing collected packages: requests-oauthlib, tweepy\n",
            "Successfully installed requests-oauthlib-1.3.0 tweepy-3.10.0\n",
            "Collecting tqdm\n",
            "  Downloading tqdm-4.60.0-py2.py3-none-any.whl (75 kB)\n",
            "\u001b[K     |████████████████████████████████| 75 kB 2.6 MB/s eta 0:00:011\n",
            "\u001b[?25hInstalling collected packages: tqdm\n",
            "Successfully installed tqdm-4.60.0\n"
          ]
        }
      ],
      "source": [
        "#install & import required pakages, library\n",
        "!pip install tweepy\n",
        "!pip install tqdm\n",
        "import numpy as np\n",
        "import pandas as pd\n",
        "import tweepy as tw   # to extract the twitter data\n",
        "from tqdm import tqdm #make a terminal progress bar\n"
      ]
    },
    {
      "cell_type": "code",
      "source": [],
      "metadata": {
        "id": "GKWvQ_TQEwAs"
      },
      "id": "GKWvQ_TQEwAs",
      "execution_count": null,
      "outputs": []
    },
    {
      "cell_type": "markdown",
      "source": [
        "Requirements: You must have a twitter account\n",
        "\n",
        "\n",
        "STEP 1: Create a twitter app using this link (https://apps.twitter.com/app/new)\n",
        "\n",
        "\n",
        "STEP 2: Once u create ur own app using step 1, You will get 2 keys which is unique to your account API KEY and API KEY SECRET\n",
        "\n",
        "\n",
        "STEP 3: Run the below sections of code to extarct the twitter data!"
      ],
      "metadata": {
        "id": "yVA2gVCJEw81"
      },
      "id": "yVA2gVCJEw81"
    },
    {
      "cell_type": "code",
      "execution_count": null,
      "id": "cooked-reset",
      "metadata": {
        "id": "cooked-reset"
      },
      "outputs": [],
      "source": [
        "consumer_api_key = 'use_your_api_key'\n",
        "consumer_api_secret = 'use_your_api_secret'\n"
      ]
    },
    {
      "cell_type": "code",
      "execution_count": null,
      "id": "competitive-appearance",
      "metadata": {
        "id": "competitive-appearance"
      },
      "outputs": [],
      "source": [
        "auth = tw.OAuthHandler(consumer_api_key, consumer_api_secret)\n",
        "api = tw.API(auth, wait_on_rate_limit=True)\n"
      ]
    },
    {
      "cell_type": "code",
      "execution_count": null,
      "id": "legendary-produce",
      "metadata": {
        "id": "legendary-produce"
      },
      "outputs": [],
      "source": [
        "search_tweets_by_hashtag = \"#vaccineswork OR #vaccinesavelives   -filter:retwets\"   #using require hashtag\n",
        "date_since = \"start_date\"\n",
        "date_until = \"target_date\"\n",
        "#collect tweets function\n",
        "tweets = tw.Cursor(api.search,\n",
        "                  q=search_tweets_by_hashtag,\n",
        "                  lang=\"en\",\n",
        "                  since=date_since,\n",
        "                  untill=date_until\n",
        "                  ).items(5000)\n"
      ]
    },
    {
      "cell_type": "code",
      "execution_count": null,
      "id": "stuffed-postcard",
      "metadata": {
        "id": "stuffed-postcard",
        "outputId": "29626a8d-ddfa-4a4a-ec31-f01af35d3fe3"
      },
      "outputs": [
        {
          "name": "stderr",
          "output_type": "stream",
          "text": [
            "5000it [02:12, 37.83it/s]\n"
          ]
        }
      ],
      "source": [
        "tweets_copy = []\n",
        "for tweet in tqdm(tweets):\n",
        "    tweets_copy.append(tweet)\n"
      ]
    },
    {
      "cell_type": "code",
      "execution_count": null,
      "id": "curious-railway",
      "metadata": {
        "id": "curious-railway",
        "outputId": "3235a8ae-90f3-42c0-f8f7-711dc2ca6970"
      },
      "outputs": [
        {
          "name": "stdout",
          "output_type": "stream",
          "text": [
            "New tweets retrieved: 5000\n"
          ]
        }
      ],
      "source": [
        "print(f\"New tweets retrieved: {len(tweets_copy)}\")"
      ]
    },
    {
      "cell_type": "code",
      "execution_count": null,
      "id": "objective-webmaster",
      "metadata": {
        "id": "objective-webmaster",
        "outputId": "ee35cb8c-5d2b-4ac1-8650-215beb25df84"
      },
      "outputs": [
        {
          "name": "stderr",
          "output_type": "stream",
          "text": [
            "100%|██████████| 5000/5000 [00:23<00:00, 212.46it/s]\n"
          ]
        }
      ],
      "source": [
        "tweets_df = pd.DataFrame()\n",
        "for tweet in tqdm(tweets_copy):\n",
        "    hashtags = []\n",
        "    try:\n",
        "        for hashtag in tweet.entities[\"hashtags\"]:\n",
        "            hashtags.append(hashtag[\"text\"])\n",
        "    except:\n",
        "        pass\n",
        "    tweets_df = tweets_df.append(pd.DataFrame({'user_name': tweet.user.name,\n",
        "                                               'user_location': tweet.user.location,\n",
        "                                              'date': tweet.created_at,\n",
        "                                              'text': tweet.text,\n",
        "                                              'hashtags': [hashtags if hashtags else None],\n",
        "                                              'is_retweet': tweet.retweeted}, index=[0]))\n"
      ]
    },
    {
      "cell_type": "code",
      "execution_count": null,
      "id": "mediterranean-dallas",
      "metadata": {
        "id": "mediterranean-dallas"
      },
      "outputs": [],
      "source": [
        "tweets_df.to_csv('tweet_data.csv', index=False)\n"
      ]
    },
    {
      "cell_type": "code",
      "execution_count": null,
      "id": "broken-decrease",
      "metadata": {
        "id": "broken-decrease"
      },
      "outputs": [],
      "source": []
    }
  ],
  "metadata": {
    "kernelspec": {
      "display_name": "Python 3",
      "language": "python",
      "name": "python3"
    },
    "language_info": {
      "codemirror_mode": {
        "name": "ipython",
        "version": 3
      },
      "file_extension": ".py",
      "mimetype": "text/x-python",
      "name": "python",
      "nbconvert_exporter": "python",
      "pygments_lexer": "ipython3",
      "version": "3.7.8"
    },
    "colab": {
      "provenance": []
    }
  },
  "nbformat": 4,
  "nbformat_minor": 5
}